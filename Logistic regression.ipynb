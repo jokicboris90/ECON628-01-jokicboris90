{
 "cells": [
  {
   "cell_type": "markdown",
   "metadata": {},
   "source": [
    "# LOGISTIC REGRESSION\n",
    "---\n",
    "\n",
    "For this exercise we are going to use data from the [1984 United States Congressional Voting Records Database] [1]\n",
    "(take a look at the data dictionary) to predict if a congressmen/women is a republican or democrat \n",
    "[1]: http://archive.ics.uci.edu/ml/machine-learning-databases/voting-records/house-votes-84.names \"1984 United States Congressional Voting Records Database\""
   ]
  },
  {
   "cell_type": "markdown",
   "metadata": {},
   "source": [
    "# STEP 0\n",
    "### IMPORTING THE PACKAGES. "
   ]
  },
  {
   "cell_type": "code",
   "execution_count": 12,
   "metadata": {
    "collapsed": true
   },
   "outputs": [],
   "source": [
    "import matplotlib.pyplot as plt\n",
    "import numpy as np\n",
    "import pandas as pd\n",
    "\n",
    "import seaborn as sns\n",
    "\n",
    "plt.style.use('fivethirtyeight')\n",
    "\n",
    "%matplotlib inline\n",
    "%config InlineBackend.figure_format = 'retina'\n",
    "\n",
    "from sklearn.linear_model import LogisticRegression"
   ]
  },
  {
   "cell_type": "markdown",
   "metadata": {},
   "source": [
    "# STEP 1 \n",
    "---\n",
    "### MAKING A DUMMY DEPENDENT VARIABLE, IF IT IS NOT ALREADY IN 0 OR 1 FORM."
   ]
  },
  {
   "cell_type": "code",
   "execution_count": null,
   "metadata": {
    "collapsed": true
   },
   "outputs": [],
   "source": [
    "df['class'] = df['class'].map(lambda value: 0 if value == \"republican\" else 1 )"
   ]
  },
  {
   "cell_type": "markdown",
   "metadata": {},
   "source": [
    "##### Here we have variable \"class\" that is taking values \"democrat\" and \"republican\" so we made a binary dummy from it that takes value 0 if republican and 1 if democrat."
   ]
  },
  {
   "cell_type": "markdown",
   "metadata": {},
   "source": [
    "##### MAKING A DATAFRAME OF ALL DUMMIES"
   ]
  },
  {
   "cell_type": "code",
   "execution_count": 4,
   "metadata": {
    "collapsed": true
   },
   "outputs": [
    {
     "data": {
      "text/html": [
       "<div>\n",
       "<table border=\"1\" class=\"dataframe\">\n",
       "  <thead>\n",
       "    <tr style=\"text-align: right;\">\n",
       "      <th></th>\n",
       "      <th>class</th>\n",
       "      <th>handicapped_infants_?</th>\n",
       "      <th>handicapped_infants_n</th>\n",
       "      <th>handicapped_infants_y</th>\n",
       "      <th>water_project_cost_?</th>\n",
       "      <th>water_project_cost_n</th>\n",
       "      <th>water_project_cost_y</th>\n",
       "      <th>adoption_of_the_budget_resolution_?</th>\n",
       "      <th>adoption_of_the_budget_resolution_n</th>\n",
       "      <th>adoption_of_the_budget_resolution_y</th>\n",
       "      <th>...</th>\n",
       "      <th>superfund_right_to_sue_y</th>\n",
       "      <th>crime_?</th>\n",
       "      <th>crime_n</th>\n",
       "      <th>crime_y</th>\n",
       "      <th>duty_free_exports_?</th>\n",
       "      <th>duty_free_exports_n</th>\n",
       "      <th>duty_free_exports_y</th>\n",
       "      <th>export_administration_act_south_africa_?</th>\n",
       "      <th>export_administration_act_south_africa_n</th>\n",
       "      <th>export_administration_act_south_africa_y</th>\n",
       "    </tr>\n",
       "  </thead>\n",
       "  <tbody>\n",
       "    <tr>\n",
       "      <th>0</th>\n",
       "      <td>0</td>\n",
       "      <td>0</td>\n",
       "      <td>1</td>\n",
       "      <td>0</td>\n",
       "      <td>0</td>\n",
       "      <td>0</td>\n",
       "      <td>1</td>\n",
       "      <td>0</td>\n",
       "      <td>1</td>\n",
       "      <td>0</td>\n",
       "      <td>...</td>\n",
       "      <td>1</td>\n",
       "      <td>0</td>\n",
       "      <td>0</td>\n",
       "      <td>1</td>\n",
       "      <td>0</td>\n",
       "      <td>1</td>\n",
       "      <td>0</td>\n",
       "      <td>0</td>\n",
       "      <td>0</td>\n",
       "      <td>1</td>\n",
       "    </tr>\n",
       "    <tr>\n",
       "      <th>1</th>\n",
       "      <td>0</td>\n",
       "      <td>0</td>\n",
       "      <td>1</td>\n",
       "      <td>0</td>\n",
       "      <td>0</td>\n",
       "      <td>0</td>\n",
       "      <td>1</td>\n",
       "      <td>0</td>\n",
       "      <td>1</td>\n",
       "      <td>0</td>\n",
       "      <td>...</td>\n",
       "      <td>1</td>\n",
       "      <td>0</td>\n",
       "      <td>0</td>\n",
       "      <td>1</td>\n",
       "      <td>0</td>\n",
       "      <td>1</td>\n",
       "      <td>0</td>\n",
       "      <td>1</td>\n",
       "      <td>0</td>\n",
       "      <td>0</td>\n",
       "    </tr>\n",
       "    <tr>\n",
       "      <th>2</th>\n",
       "      <td>1</td>\n",
       "      <td>1</td>\n",
       "      <td>0</td>\n",
       "      <td>0</td>\n",
       "      <td>0</td>\n",
       "      <td>0</td>\n",
       "      <td>1</td>\n",
       "      <td>0</td>\n",
       "      <td>0</td>\n",
       "      <td>1</td>\n",
       "      <td>...</td>\n",
       "      <td>1</td>\n",
       "      <td>0</td>\n",
       "      <td>0</td>\n",
       "      <td>1</td>\n",
       "      <td>0</td>\n",
       "      <td>1</td>\n",
       "      <td>0</td>\n",
       "      <td>0</td>\n",
       "      <td>1</td>\n",
       "      <td>0</td>\n",
       "    </tr>\n",
       "  </tbody>\n",
       "</table>\n",
       "<p>3 rows × 49 columns</p>\n",
       "</div>"
      ],
      "text/plain": [
       "   class  handicapped_infants_?  handicapped_infants_n  handicapped_infants_y  \\\n",
       "0      0                      0                      1                      0   \n",
       "1      0                      0                      1                      0   \n",
       "2      1                      1                      0                      0   \n",
       "\n",
       "   water_project_cost_?  water_project_cost_n  water_project_cost_y  \\\n",
       "0                     0                     0                     1   \n",
       "1                     0                     0                     1   \n",
       "2                     0                     0                     1   \n",
       "\n",
       "   adoption_of_the_budget_resolution_?  adoption_of_the_budget_resolution_n  \\\n",
       "0                                    0                                    1   \n",
       "1                                    0                                    1   \n",
       "2                                    0                                    0   \n",
       "\n",
       "   adoption_of_the_budget_resolution_y  \\\n",
       "0                                    0   \n",
       "1                                    0   \n",
       "2                                    1   \n",
       "\n",
       "                     ...                     superfund_right_to_sue_y  \\\n",
       "0                    ...                                            1   \n",
       "1                    ...                                            1   \n",
       "2                    ...                                            1   \n",
       "\n",
       "   crime_?  crime_n  crime_y  duty_free_exports_?  duty_free_exports_n  \\\n",
       "0        0        0        1                    0                    1   \n",
       "1        0        0        1                    0                    1   \n",
       "2        0        0        1                    0                    1   \n",
       "\n",
       "   duty_free_exports_y  export_administration_act_south_africa_?  \\\n",
       "0                    0                                         0   \n",
       "1                    0                                         1   \n",
       "2                    0                                         0   \n",
       "\n",
       "   export_administration_act_south_africa_n  \\\n",
       "0                                         0   \n",
       "1                                         0   \n",
       "2                                         1   \n",
       "\n",
       "   export_administration_act_south_africa_y  \n",
       "0                                         1  \n",
       "1                                         0  \n",
       "2                                         0  \n",
       "\n",
       "[3 rows x 49 columns]"
      ]
     },
     "execution_count": 4,
     "metadata": {},
     "output_type": "execute_result"
    }
   ],
   "source": [
    "df_dummies = pd.get_dummies(df)"
   ]
  },
  {
   "cell_type": "markdown",
   "metadata": {},
   "source": [
    "##### Here we made a new dataframe that contains all dummies based on values in original dataframe. This command automatically creates dummies for each variable."
   ]
  },
  {
   "cell_type": "markdown",
   "metadata": {},
   "source": [
    "# STEP 2\n",
    "---\n",
    "### DEFINING THE DEPENDENT AND INDEPENDENT VARIABLE(S)"
   ]
  },
  {
   "cell_type": "code",
   "execution_count": 6,
   "metadata": {
    "collapsed": false
   },
   "outputs": [
    {
     "name": "stdout",
     "output_type": "stream",
     "text": [
      "(435, 48) (435L,)\n"
     ]
    }
   ],
   "source": [
    "y = df_dummies['class'] \n",
    "columns_ = df_dummies.columns.tolist()\n",
    "exclude_col = ['class']\n",
    "\n",
    "X = df_dummies[[i for i in columns_ if i not in exclude_col]]\n",
    "\n",
    "print X.shape, y.shape"
   ]
  },
  {
   "cell_type": "markdown",
   "metadata": {},
   "source": [
    "##### Here we are including all the variables from the dataframe as possible independent variables, so we are excluding only our depependent variable from x."
   ]
  },
  {
   "cell_type": "markdown",
   "metadata": {},
   "source": [
    "# STEP 3\n",
    "---\n",
    "### SPLITTING THE DATA ON TRAIN AND TEST SAMPLE"
   ]
  },
  {
   "cell_type": "code",
   "execution_count": 7,
   "metadata": {
    "collapsed": false
   },
   "outputs": [
    {
     "name": "stdout",
     "output_type": "stream",
     "text": [
      "(304, 48) (304L,)\n",
      "(131, 48) (131L,)\n"
     ]
    },
    {
     "name": "stderr",
     "output_type": "stream",
     "text": [
      "C:\\Users\\Boris\\Anaconda2\\lib\\site-packages\\sklearn\\cross_validation.py:44: DeprecationWarning: This module was deprecated in version 0.18 in favor of the model_selection module into which all the refactored classes and functions are moved. Also note that the interface of the new CV iterators are different from that of this module. This module will be removed in 0.20.\n",
      "  \"This module will be removed in 0.20.\", DeprecationWarning)\n"
     ]
    }
   ],
   "source": [
    "from sklearn.cross_validation import train_test_split\n",
    "\n",
    "X_train, X_test, y_train, y_test = train_test_split(X, y, test_size=0.30, random_state=10)\n",
    "print X_train.shape, y_train.shape\n",
    "print X_test.shape, y_test.shape"
   ]
  },
  {
   "cell_type": "markdown",
   "metadata": {},
   "source": [
    "##### Here we splitted the sample on train and test in 70:30 proportion, which is defined in command as test_size=0.3"
   ]
  },
  {
   "cell_type": "markdown",
   "metadata": {},
   "source": [
    "# STEP 4 \n",
    "---\n",
    "### CALLING THE LOGISTIC FUNCTION"
   ]
  },
  {
   "cell_type": "code",
   "execution_count": null,
   "metadata": {
    "collapsed": true
   },
   "outputs": [],
   "source": [
    "'''Call the logistic function'''\n",
    "from sklearn.linear_model import LogisticRegression\n",
    "\n",
    "logistic = LogisticRegression()"
   ]
  },
  {
   "cell_type": "markdown",
   "metadata": {},
   "source": [
    "# STEP 5 (if neccessary)\n",
    "---\n",
    "### DOING THE GRIDSEARCH TO FIND THE BEST MODEL"
   ]
  },
  {
   "cell_type": "code",
   "execution_count": null,
   "metadata": {
    "collapsed": true
   },
   "outputs": [],
   "source": [
    "'''set up parameters for the gridsearch I am using all the posible choices read documentation '''\n",
    "## http://scikit-learn.org/stable/modules/generated/sklearn.linear_model.LogisticRegression.html\n",
    "Cs = np.logspace(0.0, 5.0, 20)\n",
    "\n",
    "search_parameters = {\n",
    "                    \"penalty\": ['l1','l2'],   \n",
    "                    # Used to specify the norm used in the penalization.\n",
    "                    \n",
    "                    \"C\": Cs,  \n",
    "                    # Regularization paramter\n",
    "                    # \"dual\":[True, False], # Dual or primal formulation. Dual formulation is only implemented for l2 \n",
    "                    # penalty with liblinear solver. Prefer dual=False when n_samples > n_features\n",
    "                    \n",
    "                    \"fit_intercept\": [False, True], \n",
    "                    # Specifies if a constant (a.k.a. bias or intercept) should be added to the decision function.\n",
    "                    \n",
    "                    \"class_weight\": [None, \"balanced\"], \n",
    "                    # The “balanced” mode uses the values of y to automatically adjust weights inversely \n",
    "                    # proportional to class frequencies in the input data as n_samples / (n_classes * np.bincount(y))\n",
    "                    \n",
    "                    \"intercept_scaling\": [2, 1], \n",
    "                    # Useful only if solver is liblinear. when self.fit_intercept is True, instance vector x becomes \n",
    "                    # [x, self.intercept_scaling], i.e. a “synthetic” feature with constant value equals to intercept_scaling \n",
    "                    # is appended to the instance vector. \n",
    "                    \n",
    "                    \"solver\":  ['liblinear']\n",
    " \n",
    "}\n",
    "\n",
    "'''Gridsearch your parameters'''\n",
    "from sklearn.grid_search import GridSearchCV\n",
    "\n",
    "## http://scikit-learn.org/stable/modules/generated/sklearn.model_selection.GridSearchCV.html\n",
    "estimator = GridSearchCV(logistic, search_parameters, cv=5, verbose=1, n_jobs=-1)"
   ]
  },
  {
   "cell_type": "code",
   "execution_count": 9,
   "metadata": {
    "collapsed": false
   },
   "outputs": [
    {
     "name": "stdout",
     "output_type": "stream",
     "text": [
      "Fitting 5 folds for each of 320 candidates, totalling 1600 fits\n"
     ]
    },
    {
     "name": "stderr",
     "output_type": "stream",
     "text": [
      "[Parallel(n_jobs=-1)]: Done 105 tasks      | elapsed:    3.1s\n",
      "[Parallel(n_jobs=-1)]: Done 1600 out of 1600 | elapsed:    7.3s finished\n"
     ]
    },
    {
     "data": {
      "text/plain": [
       "GridSearchCV(cv=5, error_score='raise',\n",
       "       estimator=LogisticRegression(C=1.0, class_weight=None, dual=False, fit_intercept=True,\n",
       "          intercept_scaling=1, max_iter=100, multi_class='ovr', n_jobs=1,\n",
       "          penalty='l2', random_state=None, solver='liblinear', tol=0.0001,\n",
       "          verbose=0, warm_start=False),\n",
       "       fit_params={}, iid=True, n_jobs=-1,\n",
       "       param_grid={'C': array([  1.00000e+00,   1.83298e+00,   3.35982e+00,   6.15848e+00,\n",
       "         1.12884e+01,   2.06914e+01,   3.79269e+01,   6.95193e+01,\n",
       "         1.27427e+02,   2.33572e+02,   4.28133e+02,   7.84760e+02,\n",
       "         1.43845e+03,   2.63665e+03,   4.83293e+03,   8.85867e+03,\n",
       "         1.62378e+04,   2.97635e+04,   5.45559e+04,   1.00000e+05]), 'intercept_scaling': [2, 1], 'solver': ['liblinear'], 'fit_intercept': [False, True], 'penalty': ['l1', 'l2'], 'class_weight': [None, 'balanced']},\n",
       "       pre_dispatch='2*n_jobs', refit=True, scoring=None, verbose=1)"
      ]
     },
     "execution_count": 9,
     "metadata": {},
     "output_type": "execute_result"
    }
   ],
   "source": [
    "estimator.fit(X_train, y_train)"
   ]
  },
  {
   "cell_type": "code",
   "execution_count": 10,
   "metadata": {
    "collapsed": false
   },
   "outputs": [
    {
     "name": "stdout",
     "output_type": "stream",
     "text": [
      "Best estimators on the left out data:\n",
      "LogisticRegression(C=1.8329807108324359, class_weight=None, dual=False,\n",
      "          fit_intercept=False, intercept_scaling=2, max_iter=100,\n",
      "          multi_class='ovr', n_jobs=1, penalty='l1', random_state=None,\n",
      "          solver='liblinear', tol=0.0001, verbose=0, warm_start=False)\n",
      "\n",
      "Best C / Regularization Param on the left out data:\n",
      "1.83298071083\n",
      "\n",
      "Best Params on hold out data (train):\n",
      "{'C': 1.8329807108324359, 'intercept_scaling': 2, 'fit_intercept': False, 'solver': 'liblinear', 'penalty': 'l1', 'class_weight': None}\n",
      "\n",
      "Best Score on left out data:0.967 \n",
      "\n"
     ]
    }
   ],
   "source": [
    "log_best = estimator.best_estimator_\n",
    "print \"Best estimators on the left out data:\\n\", log_best\n",
    "\n",
    "print \"\\nBest C / Regularization Param on the left out data:\\n\", estimator.best_estimator_.C # This estimator.best_estimator_ object has many great reporting metrics\n",
    "## Estimator that was chosen by the search, i.e. \n",
    "## estimator which gave highest score (or smallest loss if specified) on the left out data. \n",
    "## Not available if refit=False.\n",
    "\n",
    "print \"\\nBest Params on hold out data (train):\\n\", estimator.best_params_\n",
    "##Parameter setting that gave the best results on the hold out data.\n",
    "\n",
    "print \"\\nBest Score on left out data:%.3f \\n\" % estimator.best_score_\n",
    "## Score of best_estimator on the left out data."
   ]
  },
  {
   "cell_type": "code",
   "execution_count": 11,
   "metadata": {
    "collapsed": false
   },
   "outputs": [
    {
     "name": "stdout",
     "output_type": "stream",
     "text": [
      "1    267\n",
      "0    168\n",
      "Name: class, dtype: int64 \n",
      "\n",
      "if I randomly choose, 61 percent of the time I will be choosing democrat \n"
     ]
    }
   ],
   "source": [
    "'''Baseline'''\n",
    "'''Remeber that 0 is republican 1 is democrat'''\n",
    "print df_dummies['class'].value_counts(), \"\\n\" \n",
    "print \"if I randomly choose, %.0f percent of the time I will be choosing democrat \" % ((np.mean(df_dummies['class']))*100)"
   ]
  },
  {
   "cell_type": "markdown",
   "metadata": {},
   "source": [
    "# EVALUATION OF LOGISTIC REGRESSION USING CONFUSION MATRIX\n",
    "---\n",
    "\n",
    "They are \"confusing\" because:\n",
    "  - The terminology that is used to describe its components is a little hard to get it \"at first.\"\n",
    "  \n",
    "      - ***True Positive ( _tp_ )*** : The cases in which the model _predicted_ \"yes/positive\", and the truth is also         \"yes/positive.\"\n",
    "      - ***True Negatives ( _tn_ )*** : The cases in which the model _predicted_ \"no/negative\", and the truth is also         \"no/negative.\"\n",
    "      - ***False Positives ( _fp_ )*** : The cases in which the model _predicted_ \"yes/positive\", and the truth is             \"no/negative\".\n",
    "      - ***False Negatives ( _fn_ )*** : The cases in which the model _predicted_ \"no/negative\", and the truth is             \"yes/positive\".\n",
    " ![title](https://snag.gy/iDcmbe.jpg)"
   ]
  },
  {
   "cell_type": "markdown",
   "metadata": {},
   "source": [
    "\n",
    "--- \n",
    "*** number of test examples*** _n_ = _tp_  +  _tn_  +  _fp_  +  _fn_ \n",
    "\n",
    "***Accuracy:*** In general how often is the classifier correct? => ( _tp_ + _tn_ )  /  _n_\n",
    "\n",
    "***Misclassification Rate (Error Rate):*** How often is the model wrong =>   _fp_ + _fn_ / _n_\n",
    " \n",
    "***Precision:*** When the model predicts \"yes\", how often is it correct? => _tp_ / ( _tp_  +  _fp_ )\n",
    "\n",
    "***Recall / True Positive Rate:*** How often the model predicts yes, when it's actually yes => _tp_ / ( _tp_ + _fn_ )"
   ]
  },
  {
   "cell_type": "markdown",
   "metadata": {},
   "source": [
    "# IMPLEMENTING CONFUSION MATRIX\n",
    "---"
   ]
  },
  {
   "cell_type": "code",
   "execution_count": 29,
   "metadata": {
    "collapsed": true
   },
   "outputs": [],
   "source": [
    "# Load Confusion Matrix package\n",
    "from sklearn.metrics import confusion_matrix"
   ]
  },
  {
   "cell_type": "code",
   "execution_count": 30,
   "metadata": {
    "collapsed": false
   },
   "outputs": [
    {
     "data": {
      "text/plain": [
       "array([[49,  2],\n",
       "       [ 2, 78]])"
      ]
     },
     "execution_count": 30,
     "metadata": {},
     "output_type": "execute_result"
    }
   ],
   "source": [
    "'''This is the simplistic way to run a confusion Matrix'''\n",
    "y_pred=estimator.predict(X_test)\n",
    "\n",
    "confmat = confusion_matrix(y_true=y_test, y_pred=y_pred)\n",
    "confmat"
   ]
  },
  {
   "cell_type": "code",
   "execution_count": 31,
   "metadata": {
    "collapsed": false
   },
   "outputs": [
    {
     "data": {
      "text/html": [
       "<div>\n",
       "<table border=\"1\" class=\"dataframe\">\n",
       "  <thead>\n",
       "    <tr style=\"text-align: right;\">\n",
       "      <th></th>\n",
       "      <th>Predict_Label_0 Republican</th>\n",
       "      <th>Predict_Label_1 Democrat</th>\n",
       "    </tr>\n",
       "  </thead>\n",
       "  <tbody>\n",
       "    <tr>\n",
       "      <th>True_Label_0 Republican</th>\n",
       "      <td>49</td>\n",
       "      <td>2</td>\n",
       "    </tr>\n",
       "    <tr>\n",
       "      <th>True_Label_1 Democrat</th>\n",
       "      <td>2</td>\n",
       "      <td>78</td>\n",
       "    </tr>\n",
       "  </tbody>\n",
       "</table>\n",
       "</div>"
      ],
      "text/plain": [
       "                         Predict_Label_0 Republican  Predict_Label_1 Democrat\n",
       "True_Label_0 Republican                          49                         2\n",
       "True_Label_1 Democrat                             2                        78"
      ]
     },
     "execution_count": 31,
     "metadata": {},
     "output_type": "execute_result"
    }
   ],
   "source": [
    "'''Pass it to a dataframe'''\n",
    "confusion = pd.DataFrame(confmat, index=['True_Label_0 Republican', 'True_Label_1 Democrat'],\n",
    "                         columns=['Predict_Label_0 Republican', 'Predict_Label_1 Democrat'])\n",
    "\n",
    "confusion"
   ]
  },
  {
   "cell_type": "markdown",
   "metadata": {},
   "source": [
    "# Get the TP, FP, TN, FN from the confusion matrix\n",
    "---"
   ]
  },
  {
   "cell_type": "code",
   "execution_count": 34,
   "metadata": {
    "collapsed": false
   },
   "outputs": [
    {
     "name": "stdout",
     "output_type": "stream",
     "text": [
      "[('True Positives', 49), ('False Positives', 2), ('True Negatives', 78), ('False Negatives', 2)]\n"
     ]
    }
   ],
   "source": [
    "TP = confusion.ix['True_Label_0 Republican', 'Predict_Label_0 Republican']  \n",
    "\n",
    "FP = confusion.ix['True_Label_1 Democrat', 'Predict_Label_0 Republican']\n",
    "\n",
    "TN = confusion.ix['True_Label_1 Democrat', 'Predict_Label_1 Democrat']\n",
    "\n",
    "FN = confusion.ix['True_Label_0 Republican', 'Predict_Label_1 Democrat']\n",
    "\n",
    "print(zip(['True Positives','False Positives','True Negatives','False Negatives'],\n",
    "          [TP, FP, TN, FN]))"
   ]
  },
  {
   "cell_type": "markdown",
   "metadata": {},
   "source": [
    "# Calculate accuracy, Misclassification Rate (Error Rate), Precision,  Recall¶\n",
    "---"
   ]
  },
  {
   "cell_type": "code",
   "execution_count": 35,
   "metadata": {
    "collapsed": false
   },
   "outputs": [
    {
     "name": "stdout",
     "output_type": "stream",
     "text": [
      "Accuracy score: 96.947\n"
     ]
    }
   ],
   "source": [
    "## Accuracy\n",
    "## How often is the classifier correct?\n",
    "from sklearn.metrics import accuracy_score\n",
    "\n",
    "acc = accuracy_score(y_test, y_pred)\n",
    "print \"Accuracy score: %.3f\" %(acc*100)"
   ]
  },
  {
   "cell_type": "code",
   "execution_count": 36,
   "metadata": {
    "collapsed": false
   },
   "outputs": [
    {
     "name": "stdout",
     "output_type": "stream",
     "text": [
      "Error rate: 3.053\n"
     ]
    }
   ],
   "source": [
    "## Misclassification Rate (Error Rate)\n",
    "## How often is the model wrong\n",
    "print \"Error rate: %.3f\" % (((FP + FN))/ float(len(y_test))*100)"
   ]
  },
  {
   "cell_type": "code",
   "execution_count": 37,
   "metadata": {
    "collapsed": false
   },
   "outputs": [
    {
     "name": "stdout",
     "output_type": "stream",
     "text": [
      "Precision: 97.500\n"
     ]
    }
   ],
   "source": [
    "## Precision\n",
    "## Ability of the classifier to avoid labeling a class as a member of another class\n",
    "from sklearn.metrics import precision_score\n",
    "\n",
    "pcs = precision_score(y_test, y_pred)\n",
    "print \"Precision: %.3f\" %(pcs*100)"
   ]
  },
  {
   "cell_type": "code",
   "execution_count": 38,
   "metadata": {
    "collapsed": false
   },
   "outputs": [
    {
     "name": "stdout",
     "output_type": "stream",
     "text": [
      "Recall: 97.500\n"
     ]
    }
   ],
   "source": [
    "## Recall\n",
    "## Recall the ability of the classifier to correctly identify the current class\n",
    "from sklearn.metrics import recall_score\n",
    "\n",
    "rcs = recall_score(y_test, y_pred)\n",
    "print \"Recall: %.3f\" % (rcs*100)"
   ]
  },
  {
   "cell_type": "markdown",
   "metadata": {},
   "source": [
    "# Classification Report\n",
    "---\n"
   ]
  },
  {
   "cell_type": "code",
   "execution_count": 39,
   "metadata": {
    "collapsed": false
   },
   "outputs": [
    {
     "name": "stdout",
     "output_type": "stream",
     "text": [
      "             precision    recall  f1-score   support\n",
      "\n",
      "          0       0.96      0.96      0.96        51\n",
      "          1       0.97      0.97      0.97        80\n",
      "\n",
      "avg / total       0.97      0.97      0.97       131\n",
      "\n"
     ]
    }
   ],
   "source": [
    "from sklearn.metrics import classification_report\n",
    "\n",
    "cls_rep = classification_report(y_test, y_pred)\n",
    "print cls_rep"
   ]
  },
  {
   "cell_type": "markdown",
   "metadata": {},
   "source": [
    "# Classification Report - Meaning\n",
    "---\n",
    "Scikit-learn also has a package called \"Classification Report\" on which each of the columns indicate an important metric for evaluating classification model performance.\n",
    "\n",
    "|   |   |\n",
    "|---|---|\n",
    "|**precision** | Ability of the classifier to avoid labeling a class as a member of another class. <br><br> `Precision = True Positives / (True Positives + False Positives)`<br><br>_A precision score of 1 indicates that the classifier never mistakenly classified the current class as another class.  precision score of 0 would mean that the classifier misclassified every instance of the current class_ |\n",
    "|**recall**    | is the ability of the classifier to correctly identify the current class. <br><br>`Recall = True Positives / (True Positives + False Negatives)`<br><br>A recall of 1 indicates that the classifier correctly predicted all observations.  0 means the classifier predicted all observations of the current class incorrectly.|\n",
    "|**f1-score** | is the harmonic mean of the precision and recall. The harmonic mean is used here rather than the more conventional arithmetic mean because the harmonic mean is more appropriate for averaging rates. <br><br>`F1-Score = 2 * (Precision * Recall) / (Precision + Recall)` <br><br>_The f1-score's best value is 1 and worst value is 0, like the precision and recall scores. It is a useful metric for taking into account both measures at once._ |\n",
    "|**support** | is simply the number of observations of the labelled class.|"
   ]
  },
  {
   "cell_type": "markdown",
   "metadata": {},
   "source": [
    "# Confusion Matrix and Classification Report in one graph\n",
    "---"
   ]
  },
  {
   "cell_type": "code",
   "execution_count": 40,
   "metadata": {
    "collapsed": true
   },
   "outputs": [],
   "source": [
    "''' Code by Matt Hancock => thus far one of the best explanations of a Confusion Matrix\n",
    "http://notmatthancock.github.io/2015/10/28/confusion-matrix.html'''\n",
    "\n",
    "def show_confusion_matrix(C,class_labels=['0','1']):\n",
    "    \"\"\"\n",
    "    C: ndarray, shape (2,2) as given by scikit-learn confusion_matrix function\n",
    "    class_labels: list of strings, default simply labels 0 and 1.\n",
    "\n",
    "    Draws confusion matrix with associated metrics.\n",
    "    \"\"\"\n",
    "    import matplotlib.pyplot as plt\n",
    "    import numpy as np\n",
    "    \n",
    "    assert C.shape == (2,2), \"Confusion matrix should be from binary classification only.\"\n",
    "    \n",
    "    # true negative, false positive, etc...\n",
    "    tn = C[0,0]; fp = C[0,1]; fn = C[1,0]; tp = C[1,1];\n",
    "\n",
    "    NP = fn+tp # Num positive examples\n",
    "    NN = tn+fp # Num negative examples\n",
    "    N  = NP+NN\n",
    "\n",
    "    fig = plt.figure(figsize=(10,8))\n",
    "    ax  = fig.add_subplot(111)\n",
    "    ax.imshow(C, interpolation='nearest', cmap=plt.cm.gray)\n",
    "\n",
    "    # Draw the grid boxes\n",
    "    ax.set_xlim(-0.5,2.5)\n",
    "    ax.set_ylim(2.5,-0.5)\n",
    "    ax.plot([-0.5,2.5],[0.5,0.5], '-k', lw=2)\n",
    "    ax.plot([-0.5,2.5],[1.5,1.5], '-k', lw=2)\n",
    "    ax.plot([0.5,0.5],[-0.5,2.5], '-k', lw=2)\n",
    "    ax.plot([1.5,1.5],[-0.5,2.5], '-k', lw=2)\n",
    "\n",
    "    # Set xlabels\n",
    "    ax.set_xlabel('Predicted Label', fontsize=16)\n",
    "    ax.set_xticks([0,1,2])\n",
    "    ax.set_xticklabels(class_labels + [''])\n",
    "    ax.xaxis.set_label_position('top')\n",
    "    ax.xaxis.tick_top()\n",
    "    # These coordinate might require some tinkering. Ditto for y, below.\n",
    "    ax.xaxis.set_label_coords(0.34,1.06)\n",
    "\n",
    "    # Set ylabels\n",
    "    ax.set_ylabel('True Label', fontsize=16, rotation=90)\n",
    "    ax.set_yticklabels(class_labels + [''],rotation=90)\n",
    "    ax.set_yticks([0,1,2])\n",
    "    ax.yaxis.set_label_coords(-0.09,0.65)\n",
    "\n",
    "\n",
    "    # Fill in initial metrics: tp, tn, etc...\n",
    "    ax.text(0,0,\n",
    "            'True Neg: %d\\n(Num Neg: %d)'%(tn,NN),\n",
    "            va='center',\n",
    "            ha='center',\n",
    "            bbox=dict(fc='w',boxstyle='round,pad=1'))\n",
    "\n",
    "    ax.text(0,1,\n",
    "            'False Neg: %d'%fn,\n",
    "            va='center',\n",
    "            ha='center',\n",
    "            bbox=dict(fc='w',boxstyle='round,pad=1'))\n",
    "\n",
    "    ax.text(1,0,\n",
    "            'False Pos: %d'%fp,\n",
    "            va='center',\n",
    "            ha='center',\n",
    "            bbox=dict(fc='w',boxstyle='round,pad=1'))\n",
    "\n",
    "\n",
    "    ax.text(1,1,\n",
    "            'True Pos: %d\\n(Num Pos: %d)'%(tp,NP),\n",
    "            va='center',\n",
    "            ha='center',\n",
    "            bbox=dict(fc='w',boxstyle='round,pad=1'))\n",
    "\n",
    "    # Fill in secondary metrics: accuracy, true pos rate, etc...\n",
    "    ax.text(2,0,\n",
    "            'False Pos Rate: %.2f'%(fp / (fp+tn+0.)),\n",
    "            va='center',\n",
    "            ha='center',\n",
    "            bbox=dict(fc='w',boxstyle='round,pad=1'))\n",
    "\n",
    "    ax.text(2,1,\n",
    "            'True Pos Rate: %.2f'%(tp / (tp+fn+0.)),\n",
    "            va='center',\n",
    "            ha='center',\n",
    "            bbox=dict(fc='w',boxstyle='round,pad=1'))\n",
    "\n",
    "    ax.text(2,2,\n",
    "            'Accuracy: %.2f'%((tp+tn+0.)/N),\n",
    "            va='center',\n",
    "            ha='center',\n",
    "            bbox=dict(fc='w',boxstyle='round,pad=1'))\n",
    "\n",
    "    ax.text(0,2,\n",
    "            'Neg Pre Val: %.2f'%(1-fn/(fn+tn+0.)),\n",
    "            va='center',\n",
    "            ha='center',\n",
    "            bbox=dict(fc='w',boxstyle='round,pad=1'))\n",
    "\n",
    "    ax.text(1,2,\n",
    "            'Pos Pred Val: %.2f'%(tp/(tp+fp+0.)),\n",
    "            va='center',\n",
    "            ha='center',\n",
    "            bbox=dict(fc='w',boxstyle='round,pad=1'))\n",
    "\n",
    "\n",
    "    plt.tight_layout()\n",
    "    plt.show()"
   ]
  },
  {
   "cell_type": "code",
   "execution_count": 41,
   "metadata": {
    "collapsed": false
   },
   "outputs": [
    {
     "data": {
      "image/png": "[encoded data removed]",
      "text/plain": [
       "<matplotlib.figure.Figure at 0xc173320>"
      ]
     },
     "metadata": {
      "image/png": {
       "height": 573,
       "width": 591
      }
     },
     "output_type": "display_data"
    }
   ],
   "source": [
    "C = confusion_matrix(y_test, estimator.predict(X_test))\n",
    "show_confusion_matrix(C, ['Class 0 = Repb', 'Class 1 = Democrat'])"
   ]
  },
  {
   "cell_type": "markdown",
   "metadata": {},
   "source": [
    "# EVALUATION WITH ROC CURVE\n",
    "\n",
    "- Receiving Operating Characteristic, or ROC, visual way to inspect the performance of a binary classifier (0/1)\n",
    "- Compares the rate at which a classifier makes correct predictions (True Positives) and the rate at which a classifier makes false predictions (False Positives) \n",
    "\n",
    "    * **True Positive Rate** =  _TP_ / ( _TP_ + _FN_ )\n",
    "    \n",
    "    * **False Positive Rate** =  _FP_ / ( _FP_ + _TN_ )\n",
    "$~$\n",
    "- In a nutshell with a **ROC** curve we're measuring the trade off between the rate at which the model correctly predicts something, with the rate at which the model predicts something incorreclty (something that doesn't happen).\n",
    "- As the class assignment threshold increases for the positive class, the false positive rate and true positive rate necessarily increase.\n",
    "\n",
    "---"
   ]
  },
  {
   "cell_type": "code",
   "execution_count": 49,
   "metadata": {
    "collapsed": false
   },
   "outputs": [
    {
     "data": {
      "image/png": "[encoded data removed]",
      "text/plain": [
       "<matplotlib.figure.Figure at 0x11ca6d990>"
      ]
     },
     "metadata": {
      "image/png": {
       "height": 571,
       "width": 625
      }
     },
     "output_type": "display_data"
    }
   ],
   "source": [
    "from sklearn.metrics import roc_curve, auc\n",
    "\n",
    "# Get out the predicted probabilities for the X_test matrix\n",
    "y_pp = estimator.predict_proba(X_test)[:,1]\n",
    "\n",
    "# roc_curve returns the false positive rate and true positive rates as the threshold changes\n",
    "# takes in the y and the predicted probabilities of the positive class from your model.\n",
    "fpr, tpr, _ = roc_curve(y_test, y_pp)\n",
    "roc_auc = auc(fpr, tpr)\n",
    "\n",
    "plt.figure(figsize=[9,9])\n",
    "plt.plot(fpr, tpr, label='ROC curve (area = %0.2f)' % roc_auc, linewidth=10, color='g')\n",
    "plt.plot([0, 1], [0, 1], linestyle='--', color='gray', linewidth=2)\n",
    "plt.xlim([0.0, 1.0])\n",
    "plt.ylim([0.0, 1.05])\n",
    "plt.xlabel('False Positive Rate', fontsize=16)\n",
    "plt.ylabel('True Positive Rate', fontsize=16)\n",
    "plt.title('Receiver operating characteristic curve', fontsize=20)\n",
    "plt.legend(loc=\"lower right\")\n",
    "plt.show()"
   ]
  },
  {
   "cell_type": "markdown",
   "metadata": {},
   "source": [
    "---\n",
    "\n",
    "### ROC - Relevant classification metrics\n",
    "\n",
    "This reference table describes some of the important metrics displayed in the visual below.\n",
    "\n",
    "|   |   |\n",
    "|---|---|\n",
    "|**TPR/RECALL**    | The true positive rate, also known as the **sensitivity** or **recall**. It is the ability of the classifier to correctly identify a class. <br><br>`Recall = True Positives / (True Positives + False Negatives)`<br><br>A recall of 1 indicates that the classifier correctly predicted all observations of the class.  0 means the classifier predicted all observations of the current class incorrectly.|\n",
    "|**FPR** | The false positive rate is the percent of times model predicts 1 when the class is 0. This is the x-axis on the ROC curve.<br><br> `fpr = fp / (tn + fp)`<br><br>|\n",
    "|**PRECISION** | The ability of the classifier to avoid labeling a class as a member of another class. <br><br> `Precision = True Positives / (True Positives + False Positives)`<br><br>_A precision score of 1 indicates that the classifier never mistakenly classified the current class as another class.  precision score of 0 would mean that the classifier misclassified every instance of the current class_ |\n",
    "|**RECALL**    | The ability of the classifier to correctly identify the current class. <br><br>`Recall = True Positives / (True Positives + False Negatives)`<br><br>A recall of 1 indicates that the classifier correctly predicted all observations of the class.  0 means the classifier predicted all observations of the current class incorrectly.|\n",
    "|**AUC** | The area under the curve: this can refer to either the ROC curve or the precision-recall curve. In the case of the ROC curve, an area of 0.50 is the baseline, meaning this is the area under the curve when the classifier would be predicting at chance. An AUC of 1.0 is a perfect model, where the classifier never makes a mistake. <br><br>|"
   ]
  },
  {
   "cell_type": "markdown",
   "metadata": {},
   "source": [
    "# EXAMPLES OF ROC CURVES\n",
    "---\n",
    "![](https://snag.gy/VTXdhF.jpg)\n",
    "- A diagonal line shows that the classifier is making completely random guesses (50/50 chance).\n",
    "\n",
    "![](https://snag.gy/M7Crfp.jpg)\n",
    "- A perfect classifier is the one that shows a perfect trade-off between TPR and FPR (graphically TPR of 1 and FPR of 0)\n",
    "\n",
    "*Images from Yhat*\n"
   ]
  },
  {
   "cell_type": "markdown",
   "metadata": {},
   "source": [
    "### 5.3 Logisitic Regression - Evaluation with ROC curve\n",
    "---\n",
    "![](https://snag.gy/DyZEIh.jpg)\n",
    "- Worse than guessing = the blue line is below the dotted line.\n",
    "\n",
    "![](https://snag.gy/oBkjlv.jpg)\n",
    "- Mediocre classifier = lines that show dips \n",
    "\n",
    "![](https://snag.gy/TbV0HU.jpg)\n",
    "- Good Classifier = the ideal escenario where there is a 'hump shaped' curve that is continually increasing\n",
    "\n",
    "*Images from Yhat*"
   ]
  },
  {
   "cell_type": "markdown",
   "metadata": {},
   "source": [
    "### 5.4 Logisitic Regression - Area Under the Curve AUC\n",
    "---\n",
    "* Is the amout of space underneath the ROC curve, it shows how well your TPR and FPR is looking in the aggregate.\n",
    "* The greater the area under the curve, the better higher the quality of the model\n",
    "* The greater the area under the curve, the higher the ratio of true positives to false positives as the threshold becomes more lenient\n",
    "    * AUC = 0, BAD\n",
    "    * AUS = 1, GOOD\n",
    "    \n",
    "![](https://snag.gy/8sLpV6.jpg)\n",
    "\n",
    "*Images from Yhat*"
   ]
  }
 ],
 "metadata": {
  "anaconda-cloud": {},
  "kernelspec": {
   "display_name": "Python [conda root]",
   "language": "python",
   "name": "conda-root-py"
  },
  "language_info": {
   "codemirror_mode": {
    "name": "ipython",
    "version": 2
   },
   "file_extension": ".py",
   "mimetype": "text/x-python",
   "name": "python",
   "nbconvert_exporter": "python",
   "pygments_lexer": "ipython2",
   "version": "2.7.12"
  }
 },
 "nbformat": 4,
 "nbformat_minor": 0
}
